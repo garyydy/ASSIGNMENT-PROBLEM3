{
 "cells": [
  {
   "cell_type": "code",
   "execution_count": 1,
   "id": "fc594bff",
   "metadata": {},
   "outputs": [
    {
     "name": "stdout",
     "output_type": "stream",
     "text": [
      "Even :  8\n",
      "Odd :  4\n"
     ]
    }
   ],
   "source": [
    "# Python program to count the number of even and odd numbers from a series of numbers.\n",
    "l = [2,4,6,10, 21, 4, 45, 66, 88,101,294,677] \n",
    "\n",
    "even, odd= 0, 0\n",
    "\n",
    "for i in l: \n",
    "\n",
    "    if i % 2 == 0: \n",
    "\n",
    "        even += 1\n",
    "\n",
    "    else: \n",
    "\n",
    "        odd+= 1          \n",
    "\n",
    "print(\"Even : \", even) \n",
    "\n",
    "print(\"Odd : \", odd)"
   ]
  },
  {
   "cell_type": "code",
   "execution_count": null,
   "id": "9efd5d34",
   "metadata": {},
   "outputs": [],
   "source": []
  }
 ],
 "metadata": {
  "kernelspec": {
   "display_name": "Python 3 (ipykernel)",
   "language": "python",
   "name": "python3"
  },
  "language_info": {
   "codemirror_mode": {
    "name": "ipython",
    "version": 3
   },
   "file_extension": ".py",
   "mimetype": "text/x-python",
   "name": "python",
   "nbconvert_exporter": "python",
   "pygments_lexer": "ipython3",
   "version": "3.9.7"
  }
 },
 "nbformat": 4,
 "nbformat_minor": 5
}
